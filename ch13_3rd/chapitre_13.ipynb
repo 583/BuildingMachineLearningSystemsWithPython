{
 "cells": [
  {
   "cell_type": "markdown",
   "metadata": {},
   "source": [
    "# Reinforcement learning with Tensorflow"
   ]
  },
  {
   "cell_type": "markdown",
   "metadata": {},
   "source": [
    "This code is supporting material for the book `Building Machine Learning Systems with Python` by [Willi Richert](https://www.linkedin.com/in/willirichert/), [Luis Pedro Coelho](https://www.linkedin.com/in/luispedrocoelho/) and [Matthieu Brucher](https://www.linkedin.com/in/matthieubrucher/) published by PACKT Publishing.\n",
    "\n",
    "It is made available under the MIT License.\n",
    "\n",
    "All code examples use Python in version..."
   ]
  },
  {
   "cell_type": "code",
   "execution_count": 1,
   "metadata": {},
   "outputs": [
    {
     "data": {
      "text/plain": [
       "'3.6.5 |Anaconda, Inc.| (default, Mar 29 2018, 18:21:58) \\n[GCC 7.2.0]'"
      ]
     },
     "execution_count": 1,
     "metadata": {},
     "output_type": "execute_result"
    }
   ],
   "source": [
    "import sys\n",
    "sys.version"
   ]
  },
  {
   "cell_type": "markdown",
   "metadata": {},
   "source": [
    "## Utility functions"
   ]
  },
  {
   "cell_type": "code",
   "execution_count": 115,
   "metadata": {},
   "outputs": [],
   "source": [
    "import os\n",
    "\n",
    "CHART_DIR = \"charts\"\n",
    "if not os.path.exists(CHART_DIR):\n",
    "    os.mkdir(CHART_DIR)\n",
    "\n",
    "def save_png(name):\n",
    "    fn = 'B09124_13_%s.png'%name # please ignore, it just helps our publisher :-)\n",
    "    plt.savefig(os.path.join(CHART_DIR, fn), bbox_inches=\"tight\")"
   ]
  },
  {
   "cell_type": "markdown",
   "metadata": {},
   "source": [
    "## Simple text games"
   ]
  },
  {
   "cell_type": "code",
   "execution_count": 2,
   "metadata": {},
   "outputs": [],
   "source": [
    "import gym\n",
    "import numpy as np\n",
    "\n",
    "env = gym.make('FrozenLake-v0')"
   ]
  },
  {
   "cell_type": "markdown",
   "metadata": {},
   "source": [
    "### Estimating the Q function the old fashion way"
   ]
  },
  {
   "cell_type": "markdown",
   "metadata": {},
   "source": [
    "Let's make a table with some Q values for this environment"
   ]
  },
  {
   "cell_type": "code",
   "execution_count": 14,
   "metadata": {},
   "outputs": [],
   "source": [
    "# Start with an empty table\n",
    "Q = np.zeros((env.observation_space.n, env.action_space.n))\n",
    "# Set learning hyperparameters\n",
    "lr = .8\n",
    "y = .95\n",
    "num_episodes = 2000\n",
    "\n",
    "# Let's run!\n",
    "for i in range(num_episodes):\n",
    "    # Reset environment and get first new observation (top left)\n",
    "    s = env.reset()\n",
    "    # Do 100 iterations to update the table\n",
    "    for i in range(100):\n",
    "        # Choose an action by picking the max of the table + additional random noise ponderated by the episode\n",
    "        a = np.argmax(Q[s,:] + np.random.randn(1,env.action_space.n)//(i+1))\n",
    "        # Get new state and reward from environment after chosen step \n",
    "        s1, r, d,_ = env.step(a)\n",
    "        # Update Q-Table with new knowledge\n",
    "        Q[s,a] = Q[s,a] + lr*(r + y*np.max(Q[s1,:]) - Q[s,a])\n",
    "        s = s1\n",
    "        if d == True:\n",
    "            break"
   ]
  },
  {
   "cell_type": "code",
   "execution_count": 15,
   "metadata": {},
   "outputs": [
    {
     "name": "stdout",
     "output_type": "stream",
     "text": [
      "Final Q-Table Values\n",
      "[[0.18118924 0.18976168 0.19044738 0.18260069]\n",
      " [0.03811294 0.19398589 0.18619181 0.18624451]\n",
      " [0.16266812 0.13309552 0.14401865 0.11183018]\n",
      " [0.02533285 0.12890984 0.02641699 0.15121063]\n",
      " [0.20015578 0.00201834 0.00902377 0.03619787]\n",
      " [0.         0.         0.         0.        ]\n",
      " [0.1294778  0.04845176 0.03590482 0.13001683]\n",
      " [0.         0.         0.         0.        ]\n",
      " [0.02543623 0.05444387 0.01170018 0.19347353]\n",
      " [0.06137181 0.43637431 0.00372395 0.00830249]\n",
      " [0.25205174 0.00709722 0.00908675 0.00296389]\n",
      " [0.         0.         0.         0.        ]\n",
      " [0.         0.         0.         0.        ]\n",
      " [0.         0.15032826 0.43034276 0.09982157]\n",
      " [0.         0.86241133 0.         0.        ]\n",
      " [0.         0.         0.         0.        ]]\n"
     ]
    }
   ],
   "source": [
    "print(\"Final Q-Table Values\")\n",
    "print(Q)"
   ]
  },
  {
   "cell_type": "markdown",
   "metadata": {},
   "source": [
    "### Test games with TF"
   ]
  },
  {
   "cell_type": "code",
   "execution_count": 16,
   "metadata": {},
   "outputs": [],
   "source": [
    "import random\n",
    "import tensorflow as tf\n",
    "import matplotlib.pyplot as plt\n",
    "%matplotlib inline"
   ]
  },
  {
   "cell_type": "markdown",
   "metadata": {},
   "source": [
    "Let's create a new network."
   ]
  },
  {
   "cell_type": "code",
   "execution_count": 92,
   "metadata": {},
   "outputs": [],
   "source": [
    "y = 0.99\n",
    "e = 0.1 # 1 in 10 samples, we chose a new action for the network\n",
    "num_episodes = 2000\n",
    "learning_rate = 0.1"
   ]
  },
  {
   "cell_type": "code",
   "execution_count": 111,
   "metadata": {},
   "outputs": [],
   "source": [
    "tf.reset_default_graph()\n",
    "\n",
    "# A simple one layer network\n",
    "inputs = tf.placeholder(shape=[None, 16], dtype=tf.float32, name=\"input\")\n",
    "Qout = tf.layers.dense(\n",
    "    inputs=inputs,\n",
    "    units=4,\n",
    "    use_bias=False,\n",
    "    name=\"dense\",\n",
    "    kernel_initializer=tf.random_uniform_initializer(minval=0, maxval=.0125)\n",
    ")\n",
    "predict = tf.argmax(Qout, 1)\n",
    "\n",
    "# Our optimizer will try to optimize \n",
    "nextQ = tf.placeholder(shape=[None, 4], dtype=tf.float32, name=\"target\")\n",
    "loss = tf.reduce_sum(tf.square(nextQ - Qout))\n",
    "\n",
    "trainer = tf.train.GradientDescentOptimizer(learning_rate=learning_rate)\n",
    "updateModel = trainer.minimize(loss)"
   ]
  },
  {
   "cell_type": "markdown",
   "metadata": {},
   "source": [
    "We can now train the network, and check that it will get more and more sucesses as the training progresses."
   ]
  },
  {
   "cell_type": "code",
   "execution_count": 112,
   "metadata": {},
   "outputs": [
    {
     "name": "stdout",
     "output_type": "stream",
     "text": [
      "Percent of succesful episodes: 0.413000%\n"
     ]
    }
   ],
   "source": [
    "# To keep track of our games and our results\n",
    "jList = []\n",
    "rList = []\n",
    "with tf.Session() as sess:\n",
    "    sess.run(tf.global_variables_initializer())\n",
    "\n",
    "    for i in range(num_episodes):\n",
    "        s = env.reset()\n",
    "        rAll = 0\n",
    "        \n",
    "        for j in range(100):\n",
    "            a, targetQ = sess.run([predict, Qout], feed_dict={inputs:np.identity(16)[s:s+1]})\n",
    "            # We randomly choose a new state that we may have not encountered before\n",
    "            if np.random.rand(1) < e:\n",
    "                a[0] = env.action_space.sample()\n",
    "\n",
    "            s1, r, d, _ = env.step(a[0])\n",
    "            \n",
    "            # Obtain the Q' values by feeding the new state through our network\n",
    "            Q1 = sess.run(Qout, feed_dict={inputs:np.identity(16)[s1:s1+1]})\n",
    "            # Obtain maxQ' and set our target value for chosen action.\n",
    "            targetQ[0, a[0]] = r + y*np.max(Q1)\n",
    "            \n",
    "            # Train our network using target and predicted Q values\n",
    "            sess.run(updateModel, feed_dict={inputs:np.identity(16)[s:s+1], nextQ:targetQ})\n",
    "            rAll += r\n",
    "            s = s1\n",
    "            if d == True:\n",
    "                # Reduce chance of random action as we train the model.\n",
    "                e = 1 / ((i // 50) + 10)\n",
    "                break\n",
    "        jList.append(j)\n",
    "        rList.append(rAll)\n",
    "print(\"Percent of succesful episodes: %f%%\" % (sum(rList) / num_episodes))"
   ]
  },
  {
   "cell_type": "markdown",
   "metadata": {},
   "source": [
    "We now display the evolution of the reward with each episode"
   ]
  },
  {
   "cell_type": "code",
   "execution_count": 132,
   "metadata": {},
   "outputs": [
    {
     "data": {
      "image/png": "[encoded data removed]",
      "text/plain": [
       "<Figure size 432x288 with 1 Axes>"
      ]
     },
     "metadata": {},
     "output_type": "display_data"
    }
   ],
   "source": [
    "from scipy.signal import lfilter\n",
    "\n",
    "plt.plot(lfilter(np.ones(20)/20, [1], rList))\n",
    "save_png(\"reward\")"
   ]
  },
  {
   "cell_type": "markdown",
   "metadata": {},
   "source": [
    "We can also see that the survival increases, even if we take suoptimal paths:"
   ]
  },
  {
   "cell_type": "code",
   "execution_count": 133,
   "metadata": {},
   "outputs": [
    {
     "data": {
      "image/png": "[encoded data removed]",
      "text/plain": [
       "<Figure size 432x288 with 1 Axes>"
      ]
     },
     "metadata": {},
     "output_type": "display_data"
    }
   ],
   "source": [
    "plt.plot(jList)\n",
    "save_png(\"length\")"
   ]
  },
  {
   "cell_type": "code",
   "execution_count": null,
   "metadata": {},
   "outputs": [],
   "source": []
  }
 ],
 "metadata": {
  "kernelspec": {
   "display_name": "Python 3",
   "language": "python",
   "name": "python3"
  },
  "language_info": {
   "codemirror_mode": {
    "name": "ipython",
    "version": 3
   },
   "file_extension": ".py",
   "mimetype": "text/x-python",
   "name": "python",
   "nbconvert_exporter": "python",
   "pygments_lexer": "ipython3",
   "version": "3.6.5"
  }
 },
 "nbformat": 4,
 "nbformat_minor": 2
}
